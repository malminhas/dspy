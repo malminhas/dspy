{
 "cells": [
  {
   "cell_type": "markdown",
   "id": "c63f2095",
   "metadata": {},
   "source": [
    "# dspy playbook"
   ]
  },
  {
   "cell_type": "markdown",
   "id": "6b9a05c2-b0d4-4560-a736-d7fa294715b8",
   "metadata": {},
   "source": [
    "[DSYp](https://dspy.ai/) is:\n",
    "> a declarative framework for building modular AI software. It allows you to iterate fast on structured code, rather than brittle strings, and offers algorithms that compile AI programs into effective prompts and weights for your language models, whether you're building simple classifiers, sophisticated RAG pipelines, or Agent loops.\n",
    "\n",
    "As such, it shifts your focus from fiddling with prompt strings to programming with structured and declarative natural-language modules. "
   ]
  },
  {
   "cell_type": "markdown",
   "id": "0ba5166f-fba8-4a0c-986e-76f70f6bf4b2",
   "metadata": {},
   "source": [
    "### Configuration"
   ]
  },
  {
   "cell_type": "code",
   "execution_count": 1,
   "id": "env-setup",
   "metadata": {},
   "outputs": [],
   "source": [
    "import os\n",
    "import dspy\n",
    "\n",
    "lm = None\n",
    "\n",
    "openai_key = os.environ.get('OPENAI_API_KEY')\n",
    "anthropic_key = os.environ.get('ANTHROPIC_API_KEY')\n",
    "perplexity_key = os.environ.get('PERPLEXITY_API_KEY')\n",
    "groq_key = os.environ.get('GROQ_API_KEY')\n",
    "\n",
    "if None in [openai_key,anthropic_key,perplexity_key,groq_key]:\n",
    "    raise ValueError('No supported API key found in environment variables.')\n",
    "\n",
    "if openai_key:\n",
    "    openai_lm = dspy.LM('openai/gpt-4o-mini', api_key=openai_key)\n",
    "if anthropic_key:\n",
    "    anthropic_lm = dspy.LM('anthropic/claude-opus-4-20250514', api_key=anthropic_key)\n",
    "if perplexity_key:\n",
    "    perplexity_lm = dspy.LM('perplexity/sonar', api_key=perplexity_key)\n",
    "if groq_key:\n",
    "    groq_lm = dspy.LM('groq/llama-3.1-8b-instant', api_key=groq_key)\n",
    "\n",
    "dspy.configure(lm=openai_lm)"
   ]
  },
  {
   "cell_type": "markdown",
   "id": "71ca35df-20d7-4ef3-8408-42eb2c663da3",
   "metadata": {},
   "source": [
    "### Use Case 1: Information Extraction "
   ]
  },
  {
   "cell_type": "code",
   "execution_count": 2,
   "id": "5b222f16-5447-4f7f-873b-e76451a1b3ac",
   "metadata": {},
   "outputs": [
    {
     "name": "stdout",
     "output_type": "stream",
     "text": [
      "Apple Inc. Announces iPhone 14\n",
      "['Announcement', 'CEO Statement', 'New Features']\n",
      "[{'name': 'Apple Inc.', 'type': 'Company'}, {'name': 'iPhone 14', 'type': 'Product'}, {'name': 'Tim Cook', 'type': 'Person'}]\n"
     ]
    }
   ],
   "source": [
    "class ExtractInfo(dspy.Signature):\n",
    "    \"\"\"Extract structured information from text.\"\"\"\n",
    "\n",
    "    text: str = dspy.InputField()\n",
    "    title: str = dspy.OutputField()\n",
    "    headings: list[str] = dspy.OutputField()\n",
    "    entities: list[dict[str, str]] = dspy.OutputField(desc=\"a list of entities and their metadata\")\n",
    "\n",
    "module = dspy.Predict(ExtractInfo)\n",
    "\n",
    "text = \"Apple Inc. announced its latest iPhone 14 today.  The CEO, Tim Cook, highlighted its new features in a press release.\"\n",
    "response = module(text=text)\n",
    "\n",
    "print(response.title)\n",
    "print(response.headings)\n",
    "print(response.entities)"
   ]
  },
  {
   "cell_type": "markdown",
   "id": "8677f1ef-b27b-4b62-a998-441c70559aec",
   "metadata": {},
   "source": [
    "### Use Case 2: Prediction "
   ]
  },
  {
   "cell_type": "code",
   "execution_count": 3,
   "id": "57cce88f-95bc-463a-b979-71ee58264847",
   "metadata": {},
   "outputs": [
    {
     "data": {
      "text/plain": [
       "Prediction(\n",
       "    sentiment='positive',\n",
       "    confidence=0.85\n",
       ")"
      ]
     },
     "execution_count": 3,
     "metadata": {},
     "output_type": "execute_result"
    }
   ],
   "source": [
    "from typing import Literal\n",
    "\n",
    "class Classify(dspy.Signature):\n",
    "    \"\"\"Classify sentiment of a given sentence.\"\"\"\n",
    "\n",
    "    sentence: str = dspy.InputField()\n",
    "    sentiment: Literal[\"positive\", \"negative\", \"neutral\"] = dspy.OutputField()\n",
    "    confidence: float = dspy.OutputField()\n",
    "\n",
    "classify = dspy.Predict(Classify)\n",
    "classify(sentence=\"This book was super fun to read, though not the last chapter.\")"
   ]
  },
  {
   "cell_type": "markdown",
   "id": "b59216c7-77a3-4d42-b8ef-adee32b43225",
   "metadata": {},
   "source": [
    "### Use Case 3: RAG"
   ]
  },
  {
   "cell_type": "code",
   "execution_count": 4,
   "id": "ecd56890-5b63-41e9-ba7c-6047236d51cb",
   "metadata": {},
   "outputs": [
    {
     "data": {
      "text/plain": [
       "Prediction(\n",
       "    reasoning='David Gregory inherited Kinnairdy Castle in 1664, as mentioned in the context provided.',\n",
       "    response='The name of the castle that David Gregory inherited is Kinnairdy Castle.'\n",
       ")"
      ]
     },
     "execution_count": 4,
     "metadata": {},
     "output_type": "execute_result"
    }
   ],
   "source": [
    "def search_wikipedia(query: str) -> list[str]:\n",
    "    results = dspy.ColBERTv2(url=\"http://20.102.90.50:2017/wiki17_abstracts\")(query, k=3)\n",
    "    return [x[\"text\"] for x in results]\n",
    "\n",
    "rag = dspy.ChainOfThought(\"context, question -> response\")\n",
    "\n",
    "question = \"What's the name of the castle that David Gregory inherited?\"\n",
    "rag(context=search_wikipedia(question), question=question)"
   ]
  },
  {
   "cell_type": "markdown",
   "id": "027fcb43-3d85-456f-b78f-79954b1a9fc8",
   "metadata": {},
   "source": [
    "### Use Case 4: ReAct-based Agents"
   ]
  },
  {
   "cell_type": "markdown",
   "id": "0e7d0d23-004f-4199-8532-cc3d8aa89886",
   "metadata": {},
   "source": [
    "[ReAct]() is a pattern for "
   ]
  },
  {
   "cell_type": "code",
   "execution_count": 5,
   "id": "443d30c7-437e-453d-b703-d40b4c6d4082",
   "metadata": {},
   "outputs": [
    {
     "name": "stdout",
     "output_type": "stream",
     "text": [
      "1625.0\n"
     ]
    }
   ],
   "source": [
    "def evaluate_math(expression: str):\n",
    "    return dspy.PythonInterpreter({}).execute(expression)\n",
    "\n",
    "def search_wikipedia(query: str):\n",
    "    results = dspy.ColBERTv2(url=\"http://20.102.90.50:2017/wiki17_abstracts\")(query, k=3)\n",
    "    return [x[\"text\"] for x in results]\n",
    "\n",
    "react = dspy.ReAct(\"question -> answer: float\", tools=[evaluate_math, search_wikipedia])\n",
    "\n",
    "target = 9362158\n",
    "pred1 = react(question=\"What is the year of birth of David Gregory of Kinnairdy castle?\")\n",
    "print(pred1.answer)"
   ]
  },
  {
   "cell_type": "code",
   "execution_count": 6,
   "id": "7ed875a2-e017-4e63-bbfc-8e3ac2eadbad",
   "metadata": {},
   "outputs": [
    {
     "name": "stdout",
     "output_type": "stream",
     "text": [
      "5765.0\n",
      "Expected answer is 5761.328\n"
     ]
    }
   ],
   "source": [
    "pred2 = react(question=f\"What is {target} divided by the year of birth of David Gregory of Kinnairdy castle?\")\n",
    "print(pred2.answer)\n",
    "print(f\"Expected answer is {target/pred1.answer}\")"
   ]
  }
 ],
 "metadata": {
  "kernelspec": {
   "display_name": "Python 3 (ipykernel)",
   "language": "python",
   "name": "python3"
  },
  "language_info": {
   "codemirror_mode": {
    "name": "ipython",
    "version": 3
   },
   "file_extension": ".py",
   "mimetype": "text/x-python",
   "name": "python",
   "nbconvert_exporter": "python",
   "pygments_lexer": "ipython3",
   "version": "3.11.11"
  }
 },
 "nbformat": 4,
 "nbformat_minor": 5
}
