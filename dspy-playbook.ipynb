{
 "cells": [
  {
   "cell_type": "markdown",
   "id": "c63f2095",
   "metadata": {},
   "source": [
    "# dspy playbook"
   ]
  },
  {
   "cell_type": "markdown",
   "id": "6b9a05c2-b0d4-4560-a736-d7fa294715b8",
   "metadata": {},
   "source": [
    "[DSPy](https://dspy.ai/) is:\n",
    "> a declarative framework for building modular AI software. It allows you to iterate fast on structured code, rather than brittle strings, and offers algorithms that compile AI programs into effective prompts and weights for your language models, whether you're building simple classifiers, sophisticated RAG pipelines, or Agent loops.\n",
    "\n",
    "As such, it shifts your focus from fiddling with prompt strings to programming with structured and declarative natural-language modules. "
   ]
  },
  {
   "cell_type": "markdown",
   "id": "0ba5166f-fba8-4a0c-986e-76f70f6bf4b2",
   "metadata": {},
   "source": [
    "### Configuration"
   ]
  },
  {
   "cell_type": "code",
   "execution_count": 1,
   "id": "env-setup",
   "metadata": {},
   "outputs": [],
   "source": [
    "import os\n",
    "import dspy\n",
    "\n",
    "lm = None\n",
    "\n",
    "openai_key = os.environ.get('OPENAI_API_KEY')\n",
    "anthropic_key = os.environ.get('ANTHROPIC_API_KEY')\n",
    "perplexity_key = os.environ.get('PERPLEXITY_API_KEY')\n",
    "groq_key = os.environ.get('GROQ_API_KEY')\n",
    "\n",
    "if None in [openai_key,anthropic_key,perplexity_key,groq_key]:\n",
    "    raise ValueError('No supported API key found in environment variables.')\n",
    "\n",
    "if openai_key:\n",
    "    openai_lm = dspy.LM('openai/gpt-4o-mini', api_key=openai_key)\n",
    "if anthropic_key:\n",
    "    anthropic_lm = dspy.LM('anthropic/claude-opus-4-20250514', api_key=anthropic_key)\n",
    "if perplexity_key:\n",
    "    perplexity_lm = dspy.LM('perplexity/sonar', api_key=perplexity_key)\n",
    "if groq_key:\n",
    "    groq_lm = dspy.LM('groq/llama-3.1-8b-instant', api_key=groq_key)\n",
    "\n",
    "dspy.configure(lm=openai_lm)"
   ]
  },
  {
   "cell_type": "markdown",
   "id": "71ca35df-20d7-4ef3-8408-42eb2c663da3",
   "metadata": {},
   "source": [
    "### Use Case 1: Information Extraction "
   ]
  },
  {
   "cell_type": "code",
   "execution_count": 2,
   "id": "5b222f16-5447-4f7f-873b-e76451a1b3ac",
   "metadata": {},
   "outputs": [
    {
     "name": "stdout",
     "output_type": "stream",
     "text": [
      "Apple Inc. Announces iPhone 14\n",
      "['Announcement', 'CEO Statement', 'New Features']\n",
      "[{'name': 'Apple Inc.', 'type': 'Company'}, {'name': 'iPhone 14', 'type': 'Product'}, {'name': 'Tim Cook', 'type': 'Person'}]\n"
     ]
    }
   ],
   "source": [
    "class ExtractInfo(dspy.Signature):\n",
    "    \"\"\"Extract structured information from text.\"\"\"\n",
    "\n",
    "    text: str = dspy.InputField()\n",
    "    title: str = dspy.OutputField()\n",
    "    headings: list[str] = dspy.OutputField()\n",
    "    entities: list[dict[str, str]] = dspy.OutputField(desc=\"a list of entities and their metadata\")\n",
    "\n",
    "module = dspy.Predict(ExtractInfo)\n",
    "\n",
    "text = \"Apple Inc. announced its latest iPhone 14 today.  The CEO, Tim Cook, highlighted its new features in a press release.\"\n",
    "response = module(text=text)\n",
    "\n",
    "print(response.title)\n",
    "print(response.headings)\n",
    "print(response.entities)"
   ]
  },
  {
   "cell_type": "markdown",
   "id": "8677f1ef-b27b-4b62-a998-441c70559aec",
   "metadata": {},
   "source": [
    "### Use Case 2: Prediction "
   ]
  },
  {
   "cell_type": "code",
   "execution_count": 3,
   "id": "57cce88f-95bc-463a-b979-71ee58264847",
   "metadata": {},
   "outputs": [
    {
     "data": {
      "text/plain": [
       "Prediction(\n",
       "    sentiment='positive',\n",
       "    confidence=0.85\n",
       ")"
      ]
     },
     "execution_count": 3,
     "metadata": {},
     "output_type": "execute_result"
    }
   ],
   "source": [
    "from typing import Literal\n",
    "\n",
    "class Classify(dspy.Signature):\n",
    "    \"\"\"Classify sentiment of a given sentence.\"\"\"\n",
    "\n",
    "    sentence: str = dspy.InputField()\n",
    "    sentiment: Literal[\"positive\", \"negative\", \"neutral\"] = dspy.OutputField()\n",
    "    confidence: float = dspy.OutputField()\n",
    "\n",
    "classify = dspy.Predict(Classify)\n",
    "classify(sentence=\"This book was super fun to read, though not the last chapter.\")"
   ]
  },
  {
   "cell_type": "markdown",
   "id": "b59216c7-77a3-4d42-b8ef-adee32b43225",
   "metadata": {},
   "source": [
    "### Use Case 3: RAG"
   ]
  },
  {
   "cell_type": "code",
   "execution_count": 4,
   "id": "ecd56890-5b63-41e9-ba7c-6047236d51cb",
   "metadata": {},
   "outputs": [
    {
     "data": {
      "text/plain": [
       "Prediction(\n",
       "    reasoning='David Gregory inherited Kinnairdy Castle in 1664, as mentioned in the context provided.',\n",
       "    response='The name of the castle that David Gregory inherited is Kinnairdy Castle.'\n",
       ")"
      ]
     },
     "execution_count": 4,
     "metadata": {},
     "output_type": "execute_result"
    }
   ],
   "source": [
    "def search_wikipedia(query: str) -> list[str]:\n",
    "    results = dspy.ColBERTv2(url=\"http://20.102.90.50:2017/wiki17_abstracts\")(query, k=3)\n",
    "    return [x[\"text\"] for x in results]\n",
    "\n",
    "rag = dspy.ChainOfThought(\"context, question -> response\")\n",
    "\n",
    "question = \"What's the name of the castle that David Gregory inherited?\"\n",
    "rag(context=search_wikipedia(question), question=question)"
   ]
  },
  {
   "cell_type": "markdown",
   "id": "027fcb43-3d85-456f-b78f-79954b1a9fc8",
   "metadata": {},
   "source": [
    "### Use Case 4: ReAct-based Agents"
   ]
  },
  {
   "cell_type": "markdown",
   "id": "0e7d0d23-004f-4199-8532-cc3d8aa89886",
   "metadata": {},
   "source": [
    "[ReAct](https://www.promptingguide.ai/techniques/react) is short for **Reasoning and Acting**.  It is a paradigm for AI agent design where an agent uses chain-of-thought reasoning and tool-using actions in aggregation.  With ReAct:\n",
    "> LLMs are used to generate both reasoning traces and task-specific actions in an interleaved manner."
   ]
  },
  {
   "cell_type": "code",
   "execution_count": 5,
   "id": "443d30c7-437e-453d-b703-d40b4c6d4082",
   "metadata": {},
   "outputs": [
    {
     "name": "stdout",
     "output_type": "stream",
     "text": [
      "Reasoning: David Gregory was born on December 20, 1625, which provides the specific year of his birth needed to answer the question.\n",
      "1625.0\n"
     ]
    }
   ],
   "source": [
    "def evaluate_math(expression: str):\n",
    "    return dspy.PythonInterpreter({}).execute(expression)\n",
    "\n",
    "def search_wikipedia(query: str):\n",
    "    results = dspy.ColBERTv2(url=\"http://20.102.90.50:2017/wiki17_abstracts\")(query, k=3)\n",
    "    return [x[\"text\"] for x in results]\n",
    "\n",
    "react = dspy.ReAct(\"question -> answer: float\", tools=[evaluate_math, search_wikipedia])\n",
    "\n",
    "target = 9362158\n",
    "pred = react(question=\"What is the year of birth of David Gregory of Kinnairdy castle?\")\n",
    "print(f\"Reasoning: {pred.reasoning}\")\n",
    "yearOfBirth = pred.answer\n",
    "print(yearOfBirth)"
   ]
  },
  {
   "cell_type": "code",
   "execution_count": 6,
   "id": "7ed875a2-e017-4e63-bbfc-8e3ac2eadbad",
   "metadata": {},
   "outputs": [
    {
     "name": "stdout",
     "output_type": "stream",
     "text": [
      "To find the answer, I need to divide 9362158 by the year of birth of David Gregory, which is 1625. Performing the division gives me the result of 5765.0.\n",
      "Reasoning: To find the answer, I need to divide 9362158 by the year of birth of David Gregory, which is 1625. Performing the division gives me the result of 5765.0.\n",
      "5765.0\n",
      "Expected answer is 5761.328\n"
     ]
    }
   ],
   "source": [
    "pred = react(question=f\"What is {target} divided by the year of birth of David Gregory of Kinnairdy castle?\")\n",
    "print(pred.reasoning)\n",
    "print(f\"Reasoning: {pred.reasoning}\")\n",
    "print(pred.answer)\n",
    "print(f\"Expected answer is {target/yearOfBirth}\")"
   ]
  },
  {
   "cell_type": "markdown",
   "id": "5186eb19-006f-4a85-90f3-4b5d30b78d14",
   "metadata": {},
   "source": [
    "### Use Case 5: Multi-Stage Pipelines"
   ]
  },
  {
   "cell_type": "code",
   "execution_count": 7,
   "id": "aa5550f4-cd2e-4ff8-897f-8671ddc9da1a",
   "metadata": {},
   "outputs": [],
   "source": [
    "class Outline(dspy.Signature):\n",
    "    \"\"\"Outline a thorough overview of a topic.\"\"\"\n",
    "\n",
    "    topic: str = dspy.InputField()\n",
    "    title: str = dspy.OutputField()\n",
    "    sections: list[str] = dspy.OutputField()\n",
    "    section_subheadings: dict[str, list[str]] = dspy.OutputField(desc=\"mapping from section headings to subheadings\")\n",
    "\n",
    "class DraftSection(dspy.Signature):\n",
    "    \"\"\"Draft a top-level section of an article.\"\"\"\n",
    "\n",
    "    topic: str = dspy.InputField()\n",
    "    section_heading: str = dspy.InputField()\n",
    "    section_subheadings: list[str] = dspy.InputField()\n",
    "    content: str = dspy.OutputField(desc=\"markdown-formatted section\")\n",
    "\n",
    "class DraftArticle(dspy.Module):\n",
    "    def __init__(self):\n",
    "        self.build_outline = dspy.ChainOfThought(Outline)\n",
    "        self.draft_section = dspy.ChainOfThought(DraftSection)\n",
    "\n",
    "    def forward(self, topic):\n",
    "        outline = self.build_outline(topic=topic)\n",
    "        sections = []\n",
    "        for heading, subheadings in outline.section_subheadings.items():\n",
    "            section, subheadings = f\"## {heading}\", [f\"### {subheading}\" for subheading in subheadings]\n",
    "            section = self.draft_section(topic=outline.title, section_heading=section, section_subheadings=subheadings)\n",
    "            sections.append(section.content)\n",
    "        return dspy.Prediction(title=outline.title, sections=sections)\n",
    "\n",
    "draft_article = DraftArticle()\n",
    "article = draft_article(topic=\"Current state of Quantum Computing and Outlook for the next few years\")"
   ]
  },
  {
   "cell_type": "code",
   "execution_count": 8,
   "id": "f64ed1e0-6c97-46e9-a14a-a480b45a437a",
   "metadata": {},
   "outputs": [
    {
     "data": {
      "text/markdown": [
       "## Introduction\n",
       "\n",
       "Quantum computing represents a revolutionary shift in the way we process information, leveraging the principles of quantum mechanics to perform calculations at unprecedented speeds. Unlike classical computers, which use bits as the smallest unit of data, quantum computers utilize qubits that can exist in multiple states simultaneously. This unique property allows quantum systems to solve complex problems that are currently intractable for classical machines.\n",
       "\n",
       "In recent years, the field of quantum computing has witnessed significant advancements, with major tech companies, startups, and research institutions investing heavily in the development of quantum technologies. These efforts have led to breakthroughs in quantum algorithms, error correction, and hardware improvements, bringing us closer to realizing the full potential of quantum computing.\n",
       "\n",
       "As we look ahead to the next few years, the outlook for quantum computing is both exciting and uncertain. With ongoing research and development, we can expect to see more practical applications emerge, particularly in fields such as cryptography, materials science, and artificial intelligence. However, challenges remain, including the need for more robust quantum systems and the development of a skilled workforce to drive innovation in this cutting-edge domain.\n",
       "\n",
       "In this article, we will explore the current state of quantum computing, the key players in the industry, and the anticipated advancements that may shape the future of this transformative technology."
      ],
      "text/plain": [
       "<IPython.core.display.Markdown object>"
      ]
     },
     "metadata": {},
     "output_type": "display_data"
    },
    {
     "data": {
      "text/markdown": [
       "## Current Developments in Quantum Computing\n",
       "\n",
       "### Advancements in Qubit Technology\n",
       "Recent years have seen remarkable progress in qubit technology, which is the fundamental building block of quantum computers. Researchers are exploring various types of qubits, including superconducting qubits, trapped ions, and topological qubits, each offering unique advantages in terms of coherence time and error rates. Companies like IBM and Google are pushing the boundaries of qubit count and fidelity, with IBM's roadmap aiming for a 1,000-qubit processor by 2023. These advancements are crucial for building more powerful and reliable quantum systems.\n",
       "\n",
       "### Quantum Algorithms and Software\n",
       "The development of quantum algorithms is another area of rapid advancement. Researchers are focusing on creating algorithms that can leverage quantum computing's unique capabilities to solve complex problems more efficiently than classical computers. Notable algorithms, such as Shor's algorithm for factoring large numbers and Grover's algorithm for searching unsorted databases, are being refined and tested. Additionally, software platforms like Qiskit and Cirq are making it easier for developers to create and run quantum algorithms, fostering a growing ecosystem of quantum software development.\n",
       "\n",
       "### Industry Investments and Collaborations\n",
       "The quantum computing landscape is witnessing a surge in investments and collaborations across industries. Tech giants, startups, and academic institutions are increasingly partnering to accelerate research and development. Companies like Microsoft and Amazon are investing heavily in quantum research, while venture capital funding for quantum startups has reached unprecedented levels. This influx of resources is not only driving innovation but also fostering a collaborative environment that is essential for overcoming the challenges facing quantum computing."
      ],
      "text/plain": [
       "<IPython.core.display.Markdown object>"
      ]
     },
     "metadata": {},
     "output_type": "display_data"
    },
    {
     "data": {
      "text/markdown": [
       "## Challenges Facing Quantum Computing\n",
       "\n",
       "Quantum computing holds immense promise, but it is not without its challenges. As researchers and companies strive to unlock the full potential of this technology, several key obstacles must be addressed.\n",
       "\n",
       "### Technical Challenges\n",
       "One of the primary hurdles in quantum computing is the technical complexity involved in building and maintaining quantum systems. Quantum bits, or qubits, are highly sensitive to their environment, which can lead to errors in computation. Achieving stable qubits that can maintain coherence long enough to perform calculations is a significant challenge. Additionally, the development of error correction methods and robust quantum algorithms is crucial for practical applications.\n",
       "\n",
       "### Scalability Issues\n",
       "Scalability is another major concern in the field of quantum computing. While small-scale quantum processors have been developed, scaling these systems to a level where they can outperform classical computers remains a daunting task. The integration of a larger number of qubits while maintaining their coherence and minimizing error rates is a complex engineering problem. Researchers are exploring various architectures, such as superconducting qubits and trapped ions, but a universally scalable solution has yet to be realized.\n",
       "\n",
       "### Regulatory and Ethical Considerations\n",
       "As quantum computing technology advances, it raises important regulatory and ethical questions. The potential for quantum computers to break current encryption methods poses significant risks to data security and privacy. Policymakers must consider how to regulate the use of quantum technology to prevent misuse while fostering innovation. Additionally, ethical considerations surrounding the implications of quantum computing on society, such as job displacement and access to technology, must be addressed to ensure equitable benefits from these advancements."
      ],
      "text/plain": [
       "<IPython.core.display.Markdown object>"
      ]
     },
     "metadata": {},
     "output_type": "display_data"
    },
    {
     "data": {
      "text/markdown": [
       "## Future Outlook and Predictions\n",
       "\n",
       "### Short-term Predictions\n",
       "In the next few years, we can expect significant advancements in quantum hardware and software. Companies like IBM, Google, and startups such as Rigetti Computing are racing to improve qubit coherence times and error rates. By 2025, we may see the first commercially viable quantum computers capable of solving specific problems faster than classical computers. Additionally, the development of quantum algorithms will continue to evolve, with a focus on optimization and machine learning applications.\n",
       "\n",
       "### Long-term Vision\n",
       "Looking further ahead, the vision for quantum computing is ambitious. By the end of the decade, we could witness the emergence of quantum supremacy in various fields, including cryptography, materials science, and pharmaceuticals. The integration of quantum computing with classical systems will likely lead to hybrid models that leverage the strengths of both technologies. Furthermore, as quantum networks develop, we may see the establishment of a quantum internet, enabling secure communication and distributed quantum computing resources.\n",
       "\n",
       "### Potential Applications\n",
       "The potential applications of quantum computing are vast and transformative. In finance, quantum algorithms could optimize trading strategies and risk assessments. In healthcare, they could accelerate drug discovery and personalized medicine by simulating molecular interactions at unprecedented speeds. Other fields, such as logistics, artificial intelligence, and climate modeling, stand to benefit significantly from the computational power of quantum systems. As research progresses, we will likely uncover new applications that we cannot yet foresee, further expanding the impact of quantum technology on society."
      ],
      "text/plain": [
       "<IPython.core.display.Markdown object>"
      ]
     },
     "metadata": {},
     "output_type": "display_data"
    },
    {
     "data": {
      "text/markdown": [
       "## Conclusion\n",
       "\n",
       "In summary, the current state of quantum computing is marked by significant progress and innovation, with major advancements in hardware, algorithms, and applications. As we look to the next few years, the potential for quantum technologies to revolutionize industries such as cryptography, materials science, and pharmaceuticals is becoming increasingly tangible. However, challenges such as error correction, scalability, and the need for a skilled workforce remain critical hurdles that must be addressed.\n",
       "\n",
       "The outlook for quantum computing is promising, with ongoing investments from both public and private sectors driving research and development. As we continue to explore the capabilities of quantum systems, it is essential to foster collaboration between academia, industry, and government to ensure that the benefits of this transformative technology are realized. The journey of quantum computing is just beginning, and its future holds the potential to reshape our understanding of computation and problem-solving in ways we are only beginning to imagine."
      ],
      "text/plain": [
       "<IPython.core.display.Markdown object>"
      ]
     },
     "metadata": {},
     "output_type": "display_data"
    }
   ],
   "source": [
    "from IPython.display import display, Markdown\n",
    "\n",
    "for section in article.sections:\n",
    "    display(Markdown(section))"
   ]
  }
 ],
 "metadata": {
  "kernelspec": {
   "display_name": "Python 3 (ipykernel)",
   "language": "python",
   "name": "python3"
  },
  "language_info": {
   "codemirror_mode": {
    "name": "ipython",
    "version": 3
   },
   "file_extension": ".py",
   "mimetype": "text/x-python",
   "name": "python",
   "nbconvert_exporter": "python",
   "pygments_lexer": "ipython3",
   "version": "3.11.11"
  }
 },
 "nbformat": 4,
 "nbformat_minor": 5
}
